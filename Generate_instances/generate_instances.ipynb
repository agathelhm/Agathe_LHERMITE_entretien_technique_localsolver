{
 "cells": [
  {
   "cell_type": "code",
   "execution_count": 3,
   "metadata": {},
   "outputs": [],
   "source": [
    "import random\n"
   ]
  },
  {
   "attachments": {},
   "cell_type": "markdown",
   "metadata": {},
   "source": [
    "Generates dat files"
   ]
  },
  {
   "cell_type": "code",
   "execution_count": 4,
   "metadata": {},
   "outputs": [],
   "source": [
    "instances = ['01', '02', '03', '04', '05', '06', '07', '08', '09', '10']\n",
    "suffix = [\"DD_DF\"]  #, \"DD_SF\", \"SD_DF\", \"SD_SF\"]\n",
    "for N,T in [(50,60)] : #, (75,60), (100, 60)] :\n",
    "#for N,T in [(75,30)] :\n",
    "    filename = \"N\" + str(N) + \"T\" + str(T) \n",
    "    for i in instances :\n",
    "        for s in suffix :\n",
    "            with open('./datfiles/' + filename + s + i + \".dat\", \"w\") as f :\n",
    "                f.write(str(N) + \" \")\n",
    "                f.write(str(T) + \" \")\n",
    "                f.write(i + \"\\n\")\n",
    "\n",
    "                # entrepot\n",
    "                f.write(str(0) + \" \")\n",
    "                f.write(str(0.5) + \" \") # inventory cost @ retailer\n",
    "                # drop initial inventory\n",
    "                f.write(\"\\n\")\n",
    "\n",
    "                # set up warehouse\n",
    "                if s in ['DD_DF', 'SD_DF'] : # dynamic f0\n",
    "                    for t in range(T):\n",
    "                        f.write( str(round(random.uniform(1500, 4500))) + \" \") \n",
    "                else : # static f0\n",
    "                    for t in range(T):\n",
    "                        n = str(round(random.uniform(1500, 4500)))\n",
    "                        f.write( n + \" \") \n",
    "                f.write(\"\\n\")\n",
    "\n",
    "                for r in range(1, N+1) :\n",
    "                    f.write(str(r) + \" \") # retailer number\n",
    "                    f.write( str(round(random.uniform(0.5, 1), 2)) + \" \") # holding cost\n",
    "                    # no initial inventory\n",
    "                    f.write(\"\\n\")\n",
    "\n",
    "                    # set up retailer dynamic in both cases\n",
    "                    for t in range(T):\n",
    "                        f.write( str(round(random.uniform(5, 100))) + \" \")\n",
    "                    f.write(\"\\n\")\n",
    "\n",
    "                    # demand retailer\n",
    "                    if s in ['DD_DF', 'DD_SF'] : # dynamic demand\n",
    "                        for t in range(T):\n",
    "                            f.write( str(round(random.uniform(5, 100))) + \" \") \n",
    "                    else : # static demand\n",
    "                        for t in range(T):\n",
    "                            n = str(round(random.uniform(5, 100)))\n",
    "                            f.write( n + \" \") \n",
    "                    f.write(\"\\n\")\n",
    "\n",
    "                \n",
    "\n"
   ]
  },
  {
   "cell_type": "code",
   "execution_count": null,
   "metadata": {},
   "outputs": [],
   "source": []
  }
 ],
 "metadata": {
  "kernelspec": {
   "display_name": "Python 3",
   "language": "python",
   "name": "python3"
  },
  "language_info": {
   "codemirror_mode": {
    "name": "ipython",
    "version": 3
   },
   "file_extension": ".py",
   "mimetype": "text/x-python",
   "name": "python",
   "nbconvert_exporter": "python",
   "pygments_lexer": "ipython3",
   "version": "3.9.16"
  },
  "orig_nbformat": 4
 },
 "nbformat": 4,
 "nbformat_minor": 2
}
