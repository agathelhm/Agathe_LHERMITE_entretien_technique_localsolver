{
 "cells": [
  {
   "cell_type": "code",
   "execution_count": 1,
   "metadata": {},
   "outputs": [],
   "source": [
    "import numpy as np\n",
    "from os import listdir\n",
    "from os.path import isfile, join\n",
    "from pathlib import Path"
   ]
  },
  {
   "attachments": {},
   "cell_type": "markdown",
   "metadata": {},
   "source": [
    "This notebook transforms the file in folder datfiles into npy files in a folder data."
   ]
  },
  {
   "cell_type": "code",
   "execution_count": 2,
   "metadata": {},
   "outputs": [],
   "source": [
    "\n",
    "folder  = './datfiles/'\n",
    "\n",
    "def data_to_npy(file):\n",
    "    # read instance01.dat to a list of lists\n",
    "    datContent = [i.strip().split() for i in open(folder + file).readlines()]\n",
    "\n",
    "    N = int(datContent[0][0])\n",
    "    T = int(datContent[0][1])\n",
    "    holding_cost = np.zeros(N+1)\n",
    "    set_up_cost = np.zeros((N+1,T+1))\n",
    "    demand = np.zeros((N+1,T+1))\n",
    "\n",
    "    holding_cost[0] = float(datContent[1][1])\n",
    "    set_up_cost[0] =[0] +  list(map(float, datContent[2]))\n",
    "\n",
    "    for i in range(1, N + 1):\n",
    "        # holding cost\n",
    "        holding_cost[i] = float(datContent[3*i][1])\n",
    "\n",
    "        # set up cost\n",
    "        set_up_cost[i] = [0] + list(map(float, datContent[3*i + 1]))\n",
    "\n",
    "        # demand\n",
    "        demand[i] = [0] + list(map(float, datContent[3*i + 2]))\n",
    "\n",
    "    # create folder\n",
    "    path = \"./data/\" + file[:-4]\n",
    "    Path(path).mkdir(parents=True, exist_ok=True)\n",
    "\n",
    "    np.save(path + '/demand', demand)\n",
    "    np.save(path + '/set_up', set_up_cost)\n",
    "    np.save(path + '/holding', holding_cost)"
   ]
  },
  {
   "cell_type": "code",
   "execution_count": 3,
   "metadata": {},
   "outputs": [],
   "source": [
    "fichiers = [f for f in listdir(\"./datfiles\") if isfile(join(\"./datfiles\", f))]"
   ]
  },
  {
   "cell_type": "code",
   "execution_count": 4,
   "metadata": {},
   "outputs": [],
   "source": [
    "for file in  fichiers :\n",
    "    data_to_npy(file)"
   ]
  }
 ],
 "metadata": {
  "kernelspec": {
   "display_name": "base",
   "language": "python",
   "name": "python3"
  },
  "language_info": {
   "codemirror_mode": {
    "name": "ipython",
    "version": 3
   },
   "file_extension": ".py",
   "mimetype": "text/x-python",
   "name": "python",
   "nbconvert_exporter": "python",
   "pygments_lexer": "ipython3",
   "version": "3.9.16"
  },
  "orig_nbformat": 4
 },
 "nbformat": 4,
 "nbformat_minor": 2
}
